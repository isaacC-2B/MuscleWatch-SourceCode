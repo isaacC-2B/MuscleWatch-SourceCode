{
 "cells": [
  {
   "cell_type": "code",
   "execution_count": null,
   "id": "b6830d9d-9f9e-41ea-91c6-124deccb76c0",
   "metadata": {},
   "outputs": [],
   "source": [
    "# Code partially generated with the help of ChatGPT (OpenAI, 2025)\n",
    "# https://www.openai.com/chatgpt\n",
    "\n",
    "# Code partially generated with the help of CS50.ai (Harvard University, 2025)\n",
    "# https://www.cs50.ai/chat"
   ]
  },
  {
   "cell_type": "code",
   "execution_count": 1,
   "id": "4c8e3490-64a4-4f5a-99a5-bf2e109f7a40",
   "metadata": {},
   "outputs": [],
   "source": [
    "import pandas as pd \n",
    "import tensorflow as tf\n",
    "import numpy as np\n",
    "from sklearn.metrics import confusion_matrix, classification_report  "
   ]
  },
  {
   "cell_type": "code",
   "execution_count": 2,
   "id": "60bf51d8-acc7-42e8-bdf1-1971b5deead0",
   "metadata": {
    "scrolled": true
   },
   "outputs": [],
   "source": [
    "model = tf.keras.models.load_model('SQJ0.01.keras')  "
   ]
  },
  {
   "cell_type": "code",
   "execution_count": 3,
   "id": "061812cc-6ebd-4b6a-99be-5870ff0de1c9",
   "metadata": {},
   "outputs": [
    {
     "name": "stdout",
     "output_type": "stream",
     "text": [
      "Index(['BF (Right Hamstring)1', 'ST (Left Hamstring)1',\n",
      "       'BF (Right Hamstring)2', 'ST (Left Hamstring)2',\n",
      "       'BF (Right Hamstring)3', 'ST (Left Hamstring)3',\n",
      "       'BF (Right Hamstring)4', 'ST (Left Hamstring)4',\n",
      "       'BF (Right Hamstring)5', 'ST (Left Hamstring)5',\n",
      "       'BF (Right Hamstring)6', 'ST (Left Hamstring)6',\n",
      "       'BF (Right Hamstring)7', 'ST (Left Hamstring)7',\n",
      "       'BF (Right Hamstring)8', 'ST (Left Hamstring)8',\n",
      "       'BF (Right Hamstring)9', 'ST (Left Hamstring)9',\n",
      "       'BF (Right Hamstring)10', 'ST (Left Hamstring)10',\n",
      "       'BF (Right Hamstring)11', 'ST (Left Hamstring)11',\n",
      "       'BF (Right Hamstring)12', 'ST (Left Hamstring)12',\n",
      "       'BF (Right Hamstring)13', 'ST (Left Hamstring)13',\n",
      "       'BF (Right Hamstring)14', 'ST (Left Hamstring)14',\n",
      "       'BF (Right Hamstring)15', 'ST (Left Hamstring)15',\n",
      "       'BF (Right Hamstring)16', 'ST (Left Hamstring)16',\n",
      "       'BF (Right Hamstring)17', 'ST (Left Hamstring)17',\n",
      "       'BF (Right Hamstring)18', 'ST (Left Hamstring)18',\n",
      "       'BF (Right Hamstring)19', 'ST (Left Hamstring)19',\n",
      "       'BF (Right Hamstring)20', 'ST (Left Hamstring)20',\n",
      "       'BF (Right Hamstring)21', 'ST (Left Hamstring)21',\n",
      "       'BF (Right Hamstring)22', 'ST (Left Hamstring)22',\n",
      "       'BF (Right Hamstring)23', 'ST (Left Hamstring)23',\n",
      "       'BF (Right Hamstring)24', 'ST (Left Hamstring)24',\n",
      "       'BF (Right Hamstring)25', 'ST (Left Hamstring)25',\n",
      "       'BF (Right Hamstring)26', 'ST (Left Hamstring)26',\n",
      "       'BF (Right Hamstring)27', 'ST (Left Hamstring)27',\n",
      "       'BF (Right Hamstring)28', 'ST (Left Hamstring)28',\n",
      "       'BF (Right Hamstring)29', 'ST (Left Hamstring)29',\n",
      "       'BF (Right Hamstring)30', 'ST (Left Hamstring)30',\n",
      "       'BF (Right Hamstring)31', 'ST (Left Hamstring)31',\n",
      "       'BF (Right Hamstring)32', 'ST (Left Hamstring)32',\n",
      "       'BF (Right Hamstring)33', 'ST (Left Hamstring)33',\n",
      "       'BF (Right Hamstring)34', 'ST (Left Hamstring)34',\n",
      "       'BF (Right Hamstring)35', 'ST (Left Hamstring)35',\n",
      "       'BF (Right Hamstring)36', 'ST (Left Hamstring)36',\n",
      "       'BF (Right Hamstring)37', 'ST (Left Hamstring)37',\n",
      "       'BF (Right Hamstring)38', 'ST (Left Hamstring)38',\n",
      "       'BF (Right Hamstring)39', 'ST (Left Hamstring)39',\n",
      "       'BF (Right Hamstring)40', 'ST (Left Hamstring)40', 'Proper SQJ'],\n",
      "      dtype='object')\n"
     ]
    }
   ],
   "source": [
    "test_data = pd.read_csv('shuffledlabeledSQJtest.csv') \n",
    "print(test_data.columns)\n",
    "X_test = test_data.drop(columns=['Proper SQJ']) \n",
    "y_test = test_data['Proper SQJ']"
   ]
  },
  {
   "cell_type": "code",
   "execution_count": 4,
   "id": "a971570e-2d27-469f-93de-7fde7460c5d9",
   "metadata": {},
   "outputs": [
    {
     "name": "stderr",
     "output_type": "stream",
     "text": [
      "/tmp/ipykernel_3066/2632686666.py:1: FutureWarning: Downcasting behavior in `replace` is deprecated and will be removed in a future version. To retain the old behavior, explicitly call `result.infer_objects(copy=False)`. To opt-in to the future behavior, set `pd.set_option('future.no_silent_downcasting', True)`\n",
      "  y_test = y_test.replace({'No': 0, 'Yes': 1})\n"
     ]
    }
   ],
   "source": [
    "y_test = y_test.replace({'No': 0, 'Yes': 1})"
   ]
  },
  {
   "cell_type": "code",
   "execution_count": 19,
   "id": "609948ab-624f-47c1-88c3-02690f8791e9",
   "metadata": {},
   "outputs": [
    {
     "name": "stdout",
     "output_type": "stream",
     "text": [
      "\u001b[1m2/2\u001b[0m \u001b[32m━━━━━━━━━━━━━━━━━━━━\u001b[0m\u001b[37m\u001b[0m \u001b[1m0s\u001b[0m 55ms/step\n"
     ]
    }
   ],
   "source": [
    "y_pred = model.predict(X_test) \n",
    "y_pred_classes = (y_pred > 0.5).astype(\"int\")"
   ]
  },
  {
   "cell_type": "code",
   "execution_count": 20,
   "id": "5b641f50-4728-4938-a37a-2c2ef5402253",
   "metadata": {},
   "outputs": [],
   "source": [
    "y_pred_classes = y_pred_classes.flatten()"
   ]
  },
  {
   "cell_type": "code",
   "execution_count": 21,
   "id": "c1c1e9c4-d166-4cb8-84d9-2182054620b9",
   "metadata": {},
   "outputs": [],
   "source": [
    "y_test = np.array(y_test, dtype=int)\n",
    "y_pred_classes = np.array(y_pred_classes, dtype=int)"
   ]
  },
  {
   "cell_type": "code",
   "execution_count": 22,
   "id": "9dc2f9f4-0297-417a-9fbd-e09068925740",
   "metadata": {},
   "outputs": [],
   "source": [
    "# Only needed for debugging\n",
    "# print(f\"y_test type: {type(y_test)}, y_pred_classes type: {type(y_pred_classes)}\")\n",
    "# print(f\"y_test dtype: {y_test.dtype}, y_pred_classes dtype: {y_pred_classes.dtype}\")\n",
    "# print(f\"y_test unique values: {np.unique(y_test)}\")\n",
    "# print(f\"y_pred_classes unique values: {np.unique(y_pred_classes)}\")\n",
    "# print(\"y_test shape:\", y_test.shape)\n",
    "# print(\"y_pred_classes shape:\", y_pred_classes.shape)"
   ]
  },
  {
   "cell_type": "code",
   "execution_count": 23,
   "id": "13f7bc41-571b-42dd-b0ba-94eccda56fc5",
   "metadata": {},
   "outputs": [
    {
     "name": "stdout",
     "output_type": "stream",
     "text": [
      "confusion matrix: \n",
      "[[25  7]\n",
      " [ 2 30]]\n"
     ]
    }
   ],
   "source": [
    "conf_matrix = confusion_matrix(y_test, y_pred_classes)\n",
    "print(\"confusion matrix: \")\n",
    "print(conf_matrix)"
   ]
  },
  {
   "cell_type": "code",
   "execution_count": 24,
   "id": "6b459f81-1fdf-4e8f-ab33-a4109c21afba",
   "metadata": {},
   "outputs": [
    {
     "name": "stdout",
     "output_type": "stream",
     "text": [
      "classification_report: \n",
      "              precision    recall  f1-score   support\n",
      "\n",
      "           0       0.93      0.78      0.85        32\n",
      "           1       0.81      0.94      0.87        32\n",
      "\n",
      "    accuracy                           0.86        64\n",
      "   macro avg       0.87      0.86      0.86        64\n",
      "weighted avg       0.87      0.86      0.86        64\n",
      "\n"
     ]
    }
   ],
   "source": [
    "report = classification_report(y_test, y_pred_classes)\n",
    "print(\"classification_report: \")\n",
    "print(report) "
   ]
  },
  {
   "cell_type": "markdown",
   "id": "e5721f43-0a44-4631-95c6-9b8a785102a2",
   "metadata": {},
   "source": []
  },
  {
   "cell_type": "code",
   "execution_count": null,
   "id": "7c35ce5e-1b88-46de-b2d5-2cea25400d77",
   "metadata": {},
   "outputs": [],
   "source": []
  },
  {
   "cell_type": "code",
   "execution_count": null,
   "id": "0e655bf8-6dbf-401f-8a8d-4835b9934108",
   "metadata": {},
   "outputs": [],
   "source": []
  }
 ],
 "metadata": {
  "kernelspec": {
   "display_name": "Python 3 (ipykernel)",
   "language": "python",
   "name": "python3"
  },
  "language_info": {
   "codemirror_mode": {
    "name": "ipython",
    "version": 3
   },
   "file_extension": ".py",
   "mimetype": "text/x-python",
   "name": "python",
   "nbconvert_exporter": "python",
   "pygments_lexer": "ipython3",
   "version": "3.11.2"
  }
 },
 "nbformat": 4,
 "nbformat_minor": 5
}
