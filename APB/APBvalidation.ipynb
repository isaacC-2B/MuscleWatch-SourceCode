{
 "cells": [
  {
   "cell_type": "code",
   "execution_count": null,
   "id": "7dadf89d-3037-4bad-a3ce-440b441bede9",
   "metadata": {},
   "outputs": [],
   "source": [
    "# Code partially generated with the help of ChatGPT (OpenAI, 2025)\n",
    "# https://www.openai.com/chatgpt\n",
    "\n",
    "# Code partially generated with the help of CS50.ai (Harvard University, 2025)\n",
    "# https://www.cs50.ai/chat"
   ]
  },
  {
   "cell_type": "code",
   "execution_count": 1,
   "id": "4c8e3490-64a4-4f5a-99a5-bf2e109f7a40",
   "metadata": {},
   "outputs": [],
   "source": [
    "import pandas as pd \n",
    "import tensorflow as tf\n",
    "import numpy as np\n",
    "from sklearn.metrics import confusion_matrix, classification_report  "
   ]
  },
  {
   "cell_type": "code",
   "execution_count": 2,
   "id": "60bf51d8-acc7-42e8-bdf1-1971b5deead0",
   "metadata": {
    "scrolled": true
   },
   "outputs": [],
   "source": [
    "model = tf.keras.models.load_model('APB0.01.keras')  "
   ]
  },
  {
   "cell_type": "code",
   "execution_count": 3,
   "id": "061812cc-6ebd-4b6a-99be-5870ff0de1c9",
   "metadata": {},
   "outputs": [
    {
     "name": "stdout",
     "output_type": "stream",
     "text": [
      "Index(['BF (Right Hamstring)1', 'ST (Left Hamstring)1',\n",
      "       'BF (Right Hamstring)2', 'ST (Left Hamstring)2',\n",
      "       'BF (Right Hamstring)3', 'ST (Left Hamstring)3',\n",
      "       'BF (Right Hamstring)4', 'ST (Left Hamstring)4',\n",
      "       'BF (Right Hamstring)5', 'ST (Left Hamstring)5',\n",
      "       ...\n",
      "       'ST (Left Hamstring)76', 'BF (Right Hamstring)77',\n",
      "       'ST (Left Hamstring)77', 'BF (Right Hamstring)78',\n",
      "       'ST (Left Hamstring)78', 'BF (Right Hamstring)79',\n",
      "       'ST (Left Hamstring)79', 'BF (Right Hamstring)80',\n",
      "       'ST (Left Hamstring)80', 'Proper APB'],\n",
      "      dtype='object', length=161)\n"
     ]
    }
   ],
   "source": [
    "test_data = pd.read_csv('shuffledlabeledAPBval.csv')\n",
    "print(test_data.columns)\n",
    "X_val = test_data.drop(columns=['Proper APB']) \n",
    "y_val = test_data['Proper APB']"
   ]
  },
  {
   "cell_type": "code",
   "execution_count": 4,
   "id": "a971570e-2d27-469f-93de-7fde7460c5d9",
   "metadata": {},
   "outputs": [
    {
     "name": "stderr",
     "output_type": "stream",
     "text": [
      "/tmp/ipykernel_2357/114619039.py:1: FutureWarning: Downcasting behavior in `replace` is deprecated and will be removed in a future version. To retain the old behavior, explicitly call `result.infer_objects(copy=False)`. To opt-in to the future behavior, set `pd.set_option('future.no_silent_downcasting', True)`\n",
      "  y_val = y_val.replace({'No': 0, 'Yes': 1})\n"
     ]
    }
   ],
   "source": [
    "y_val = y_val.replace({'No': 0, 'Yes': 1})"
   ]
  },
  {
   "cell_type": "code",
   "execution_count": 5,
   "id": "609948ab-624f-47c1-88c3-02690f8791e9",
   "metadata": {},
   "outputs": [
    {
     "name": "stdout",
     "output_type": "stream",
     "text": [
      "\u001b[1m3/3\u001b[0m \u001b[32m━━━━━━━━━━━━━━━━━━━━\u001b[0m\u001b[37m\u001b[0m \u001b[1m0s\u001b[0m 71ms/step \n"
     ]
    }
   ],
   "source": [
    "y_pred = model.predict(X_val) \n",
    "y_pred_classes = (y_pred > 0.5).astype(\"int\")"
   ]
  },
  {
   "cell_type": "code",
   "execution_count": 6,
   "id": "5b641f50-4728-4938-a37a-2c2ef5402253",
   "metadata": {},
   "outputs": [],
   "source": [
    "y_pred_classes = y_pred_classes.flatten()"
   ]
  },
  {
   "cell_type": "code",
   "execution_count": 7,
   "id": "c1c1e9c4-d166-4cb8-84d9-2182054620b9",
   "metadata": {},
   "outputs": [],
   "source": [
    "y_val = np.array(y_val, dtype=int)\n",
    "y_pred_classes = np.array(y_pred_classes, dtype=int)"
   ]
  },
  {
   "cell_type": "code",
   "execution_count": 8,
   "id": "9dc2f9f4-0297-417a-9fbd-e09068925740",
   "metadata": {},
   "outputs": [],
   "source": [
    "# Only needed for debugging\n",
    "# print(f\"y_val type: {type(y_val)}, y_pred_classes type: {type(y_pred_classes)}\")\n",
    "# print(f\"y_val dtype: {y_val.dtype}, y_pred_classes dtype: {y_pred_classes.dtype}\")\n",
    "# print(f\"y_val unique values: {np.unique(y_val)}\")\n",
    "# print(f\"y_pred_classes unique values: {np.unique(y_pred_classes)}\")\n",
    "# print(\"y_val shape:\", y_val.shape)\n",
    "# print(\"y_pred_classes shape:\", y_pred_classes.shape)"
   ]
  },
  {
   "cell_type": "code",
   "execution_count": 10,
   "id": "13f7bc41-571b-42dd-b0ba-94eccda56fc5",
   "metadata": {},
   "outputs": [
    {
     "name": "stdout",
     "output_type": "stream",
     "text": [
      "confusion matrix: \n",
      "[[28  5]\n",
      " [ 8 38]]\n"
     ]
    }
   ],
   "source": [
    "conf_matrix = confusion_matrix(y_val, y_pred_classes)\n",
    "print(\"confusion matrix: \")\n",
    "print(conf_matrix)"
   ]
  },
  {
   "cell_type": "code",
   "execution_count": 11,
   "id": "6b459f81-1fdf-4e8f-ab33-a4109c21afba",
   "metadata": {},
   "outputs": [
    {
     "name": "stdout",
     "output_type": "stream",
     "text": [
      "classification_report: \n",
      "              precision    recall  f1-score   support\n",
      "\n",
      "           0       0.78      0.85      0.81        33\n",
      "           1       0.88      0.83      0.85        46\n",
      "\n",
      "    accuracy                           0.84        79\n",
      "   macro avg       0.83      0.84      0.83        79\n",
      "weighted avg       0.84      0.84      0.84        79\n",
      "\n"
     ]
    }
   ],
   "source": [
    "report = classification_report(y_val, y_pred_classes)\n",
    "print(\"classification_report: \")\n",
    "print(report) "
   ]
  },
  {
   "cell_type": "code",
   "execution_count": null,
   "id": "637c9c13-6909-4959-86db-ee3bb246df2b",
   "metadata": {},
   "outputs": [],
   "source": []
  },
  {
   "cell_type": "code",
   "execution_count": null,
   "id": "7c35ce5e-1b88-46de-b2d5-2cea25400d77",
   "metadata": {},
   "outputs": [],
   "source": []
  },
  {
   "cell_type": "code",
   "execution_count": null,
   "id": "0e655bf8-6dbf-401f-8a8d-4835b9934108",
   "metadata": {},
   "outputs": [],
   "source": []
  }
 ],
 "metadata": {
  "kernelspec": {
   "display_name": "Python 3 (ipykernel)",
   "language": "python",
   "name": "python3"
  },
  "language_info": {
   "codemirror_mode": {
    "name": "ipython",
    "version": 3
   },
   "file_extension": ".py",
   "mimetype": "text/x-python",
   "name": "python",
   "nbconvert_exporter": "python",
   "pygments_lexer": "ipython3",
   "version": "3.11.2"
  }
 },
 "nbformat": 4,
 "nbformat_minor": 5
}
