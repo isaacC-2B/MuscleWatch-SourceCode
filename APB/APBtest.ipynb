{
 "cells": [
  {
   "cell_type": "code",
   "execution_count": null,
   "id": "0428d47f-6df6-4972-a9ef-2bc9a714a8be",
   "metadata": {},
   "outputs": [],
   "source": [
    "# Code partially generated with the help of ChatGPT (OpenAI, 2025)\n",
    "# https://www.openai.com/chatgpt\n",
    "\n",
    "# Code partially generated with the help of CS50.ai (Harvard University, 2025)\n",
    "# https://www.cs50.ai/chat\n",
    "\n",
    "# I would like to express my gratitude to the creators and contributors of the libraries and code editor notebooks used in this project. Please read the README.md file in my repository to see the copyright licenses attached."
   ]
  },
  {
   "cell_type": "code",
   "execution_count": 11,
   "id": "4c8e3490-64a4-4f5a-99a5-bf2e109f7a40",
   "metadata": {},
   "outputs": [],
   "source": [
    "import pandas as pd \n",
    "import tensorflow as tf\n",
    "import numpy as np\n",
    "from sklearn.metrics import confusion_matrix, classification_report  "
   ]
  },
  {
   "cell_type": "code",
   "execution_count": 21,
   "id": "60bf51d8-acc7-42e8-bdf1-1971b5deead0",
   "metadata": {
    "scrolled": true
   },
   "outputs": [],
   "source": [
    "model = tf.keras.models.load_model('APB0.01.keras')  "
   ]
  },
  {
   "cell_type": "code",
   "execution_count": 22,
   "id": "061812cc-6ebd-4b6a-99be-5870ff0de1c9",
   "metadata": {},
   "outputs": [
    {
     "name": "stdout",
     "output_type": "stream",
     "text": [
      "Index(['BF (Right Hamstring)1', 'ST (Left Hamstring)1',\n",
      "       'BF (Right Hamstring)2', 'ST (Left Hamstring)2',\n",
      "       'BF (Right Hamstring)3', 'ST (Left Hamstring)3',\n",
      "       'BF (Right Hamstring)4', 'ST (Left Hamstring)4',\n",
      "       'BF (Right Hamstring)5', 'ST (Left Hamstring)5',\n",
      "       ...\n",
      "       'ST (Left Hamstring)76', 'BF (Right Hamstring)77',\n",
      "       'ST (Left Hamstring)77', 'BF (Right Hamstring)78',\n",
      "       'ST (Left Hamstring)78', 'BF (Right Hamstring)79',\n",
      "       'ST (Left Hamstring)79', 'BF (Right Hamstring)80',\n",
      "       'ST (Left Hamstring)80', 'Proper APB'],\n",
      "      dtype='object', length=161)\n"
     ]
    }
   ],
   "source": [
    "test_data = pd.read_csv('shuffledlabeledAPBtest.csv') \n",
    "print(test_data.columns)\n",
    "X_test = test_data.drop(columns=['Proper APB']) \n",
    "y_test = test_data['Proper APB']"
   ]
  },
  {
   "cell_type": "code",
   "execution_count": 23,
   "id": "a971570e-2d27-469f-93de-7fde7460c5d9",
   "metadata": {},
   "outputs": [
    {
     "name": "stderr",
     "output_type": "stream",
     "text": [
      "/tmp/ipykernel_2859/2632686666.py:1: FutureWarning: Downcasting behavior in `replace` is deprecated and will be removed in a future version. To retain the old behavior, explicitly call `result.infer_objects(copy=False)`. To opt-in to the future behavior, set `pd.set_option('future.no_silent_downcasting', True)`\n",
      "  y_test = y_test.replace({'No': 0, 'Yes': 1})\n"
     ]
    }
   ],
   "source": [
    "y_test = y_test.replace({'No': 0, 'Yes': 1})"
   ]
  },
  {
   "cell_type": "code",
   "execution_count": 24,
   "id": "609948ab-624f-47c1-88c3-02690f8791e9",
   "metadata": {},
   "outputs": [
    {
     "name": "stdout",
     "output_type": "stream",
     "text": [
      "WARNING:tensorflow:5 out of the last 7 calls to <function TensorFlowTrainer.make_predict_function.<locals>.one_step_on_data_distributed at 0x7f384f1580> triggered tf.function retracing. Tracing is expensive and the excessive number of tracings could be due to (1) creating @tf.function repeatedly in a loop, (2) passing tensors with different shapes, (3) passing Python objects instead of tensors. For (1), please define your @tf.function outside of the loop. For (2), @tf.function has reduce_retracing=True option that can avoid unnecessary retracing. For (3), please refer to https://www.tensorflow.org/guide/function#controlling_retracing and https://www.tensorflow.org/api_docs/python/tf/function for  more details.\n",
      "WARNING:tensorflow:6 out of the last 9 calls to <function TensorFlowTrainer.make_predict_function.<locals>.one_step_on_data_distributed at 0x7f384f1580> triggered tf.function retracing. Tracing is expensive and the excessive number of tracings could be due to (1) creating @tf.function repeatedly in a loop, (2) passing tensors with different shapes, (3) passing Python objects instead of tensors. For (1), please define your @tf.function outside of the loop. For (2), @tf.function has reduce_retracing=True option that can avoid unnecessary retracing. For (3), please refer to https://www.tensorflow.org/guide/function#controlling_retracing and https://www.tensorflow.org/api_docs/python/tf/function for  more details.\n",
      "\u001b[1m3/3\u001b[0m \u001b[32m━━━━━━━━━━━━━━━━━━━━\u001b[0m\u001b[37m\u001b[0m \u001b[1m1s\u001b[0m 168ms/step\n"
     ]
    }
   ],
   "source": [
    "y_pred = model.predict(X_test) \n",
    "y_pred_classes = (y_pred > 0.5).astype(\"int\")"
   ]
  },
  {
   "cell_type": "code",
   "execution_count": 25,
   "id": "5b641f50-4728-4938-a37a-2c2ef5402253",
   "metadata": {},
   "outputs": [],
   "source": [
    "y_pred_classes = y_pred_classes.flatten()"
   ]
  },
  {
   "cell_type": "code",
   "execution_count": 26,
   "id": "c1c1e9c4-d166-4cb8-84d9-2182054620b9",
   "metadata": {},
   "outputs": [],
   "source": [
    "y_test = np.array(y_test, dtype=int)\n",
    "y_pred_classes = np.array(y_pred_classes, dtype=int)"
   ]
  },
  {
   "cell_type": "code",
   "execution_count": 27,
   "id": "9dc2f9f4-0297-417a-9fbd-e09068925740",
   "metadata": {},
   "outputs": [],
   "source": [
    "# Only needed for debugging\n",
    "# print(f\"y_test type: {type(y_test)}, y_pred_classes type: {type(y_pred_classes)}\")\n",
    "# print(f\"y_test dtype: {y_test.dtype}, y_pred_classes dtype: {y_pred_classes.dtype}\")\n",
    "# print(f\"y_test unique values: {np.unique(y_test)}\")\n",
    "# print(f\"y_pred_classes unique values: {np.unique(y_pred_classes)}\")\n",
    "# print(\"y_test shape:\", y_test.shape)\n",
    "# print(\"y_pred_classes shape:\", y_pred_classes.shape)"
   ]
  },
  {
   "cell_type": "code",
   "execution_count": 28,
   "id": "13f7bc41-571b-42dd-b0ba-94eccda56fc5",
   "metadata": {},
   "outputs": [
    {
     "name": "stdout",
     "output_type": "stream",
     "text": [
      "confusion matrix: \n",
      "[[28  6]\n",
      " [10 28]]\n"
     ]
    }
   ],
   "source": [
    "conf_matrix = confusion_matrix(y_test, y_pred_classes)\n",
    "print(\"confusion matrix: \")\n",
    "print(conf_matrix)"
   ]
  },
  {
   "cell_type": "code",
   "execution_count": 29,
   "id": "6b459f81-1fdf-4e8f-ab33-a4109c21afba",
   "metadata": {},
   "outputs": [
    {
     "name": "stdout",
     "output_type": "stream",
     "text": [
      "classification_report: \n",
      "              precision    recall  f1-score   support\n",
      "\n",
      "           0       0.74      0.82      0.78        34\n",
      "           1       0.82      0.74      0.78        38\n",
      "\n",
      "    accuracy                           0.78        72\n",
      "   macro avg       0.78      0.78      0.78        72\n",
      "weighted avg       0.78      0.78      0.78        72\n",
      "\n"
     ]
    }
   ],
   "source": [
    "report = classification_report(y_test, y_pred_classes)\n",
    "print(\"classification_report: \")\n",
    "print(report) "
   ]
  },
  {
   "cell_type": "code",
   "execution_count": null,
   "id": "637c9c13-6909-4959-86db-ee3bb246df2b",
   "metadata": {},
   "outputs": [],
   "source": []
  },
  {
   "cell_type": "code",
   "execution_count": null,
   "id": "7c35ce5e-1b88-46de-b2d5-2cea25400d77",
   "metadata": {},
   "outputs": [],
   "source": []
  },
  {
   "cell_type": "code",
   "execution_count": null,
   "id": "0e655bf8-6dbf-401f-8a8d-4835b9934108",
   "metadata": {},
   "outputs": [],
   "source": []
  }
 ],
 "metadata": {
  "kernelspec": {
   "display_name": "Python 3 (ipykernel)",
   "language": "python",
   "name": "python3"
  },
  "language_info": {
   "codemirror_mode": {
    "name": "ipython",
    "version": 3
   },
   "file_extension": ".py",
   "mimetype": "text/x-python",
   "name": "python",
   "nbconvert_exporter": "python",
   "pygments_lexer": "ipython3",
   "version": "3.11.2"
  }
 },
 "nbformat": 4,
 "nbformat_minor": 5
}
